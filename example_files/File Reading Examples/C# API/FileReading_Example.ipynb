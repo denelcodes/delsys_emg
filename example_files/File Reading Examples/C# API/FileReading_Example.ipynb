{
 "cells": [
  {
   "cell_type": "markdown",
   "metadata": {},
   "source": [
    "# __Delsys FileReaderAPI - C# .NET Overview__\n",
    "This document outlines how to directly read SHPF files within a .NET Interactive environment using Delsys' FileReaderAPI\n",
    "\n",
    "## __Requirements__\n",
    "1) .NET 6 SDK https://dotnet.microsoft.com/download/dotnet/6.0\n",
    "2) .NET Interactive Notebooks https://marketplace.visualstudio.com/items?itemName=ms-dotnettools.dotnet-interactive-vscode\n"
   ]
  },
  {
   "cell_type": "markdown",
   "metadata": {},
   "source": [
    "## Load FileReader DLL from Trigno Discover's Program files\n",
    "Loads the dll file and Plotly.NET needed to perform the reading and plotting/graphing task."
   ]
  },
  {
   "cell_type": "code",
   "execution_count": null,
   "metadata": {
    "dotnet_interactive": {
     "language": "csharp"
    },
    "vscode": {
     "languageId": "dotnet-interactive.csharp"
    }
   },
   "outputs": [],
   "source": [
    "#r \"FileReader.dll\"\n",
    "#r \"nuget: Plotly.NET, 2.0.0-preview.16\""
   ]
  },
  {
   "cell_type": "markdown",
   "metadata": {},
   "source": [
    "## Setup the FileReader\n",
    "\n",
    "First import FileReader, then initalize the FileReadingStream by passing the shpf file location. Then initalize the ReadFile object by passing it the FileReadingStream object."
   ]
  },
  {
   "cell_type": "code",
   "execution_count": null,
   "metadata": {
    "dotnet_interactive": {
     "language": "csharp"
    },
    "vscode": {
     "languageId": "dotnet-interactive.csharp"
    }
   },
   "outputs": [],
   "source": [
    "using FileReader;\n",
    "\n",
    "string shpffile = \"Forearm_Pronation_Supination_1.shpf\";\n",
    "FileReadingStream fileReadingStream = new FileReadingStream(shpffile);\n",
    "ReadFile file = new ReadFile(fileReadingStream);\n"
   ]
  },
  {
   "cell_type": "markdown",
   "metadata": {},
   "source": [
    "## Retrieving Data\n",
    "After the file is parsed all of the individual sensor component objects are stored in a list. The file provided with this example only has one sensor's data, therefore we will reference index 0 to retrieve the first component in that list. If more sensors were used during a collection, you may loop through the sensor objects by using the total number of sensors in the file. To see all of the metadata and methods associated with each component object see IFileComponent Interface located at FileReader.Interface"
   ]
  },
  {
   "cell_type": "code",
   "execution_count": null,
   "metadata": {
    "dotnet_interactive": {
     "language": "csharp"
    },
    "vscode": {
     "languageId": "dotnet-interactive.csharp"
    }
   },
   "outputs": [],
   "source": [
    "using FileReader.Interface;\n",
    "\n",
    "List<IFileComponent> components = file.ParsedFile.Components;\n",
    "\n",
    "IFileComponent component1 = components[0];\n",
    "System.Console.WriteLine(\"Component Name: \" + component1.Name);"
   ]
  },
  {
   "cell_type": "markdown",
   "metadata": {},
   "source": [
    "## Get data from a single channel \n",
    "Each component object contains a list of channel objects. This example will pull the first channel from component1 object. Each channel object has a variety of metadata along with all of the channel data. To see all of the metadata and methods associated with each channel object see IFileChannel Interface located at FileReader.Interface"
   ]
  },
  {
   "cell_type": "code",
   "execution_count": null,
   "metadata": {
    "dotnet_interactive": {
     "language": "csharp"
    },
    "vscode": {
     "languageId": "dotnet-interactive.csharp"
    }
   },
   "outputs": [],
   "source": [
    "IFileChannel channel1 = component1.Channels[0];\n",
    "System.Console.WriteLine(\"Channel Name: \" + channel1.Name);"
   ]
  },
  {
   "cell_type": "markdown",
   "metadata": {},
   "source": [
    "## Get all data from a component\n",
    "You can get all channel data (for a single sensor component) and other metadata with these method calls."
   ]
  },
  {
   "cell_type": "code",
   "execution_count": null,
   "metadata": {
    "dotnet_interactive": {
     "language": "csharp"
    },
    "vscode": {
     "languageId": "dotnet-interactive.csharp"
    }
   },
   "outputs": [],
   "source": [
    "// Gets all of the data associated with current component (i.e. all data from every channel belonging to the component).\n",
    "List<List<double>> data = new List<List<double>>();\n",
    "foreach(var channel in component1.Channels){\n",
    "    List<double> dataTemp = new List<double>();\n",
    "    foreach(var dataList in channel.Data){\n",
    "        foreach(var sample in dataList.Samples){\n",
    "            dataTemp.Add(sample);\n",
    "        }\n",
    "    }\n",
    "    data.Add(dataTemp);\n",
    "}\n",
    "\n",
    "// Gets channel names from all channels belonging to current component.\n",
    "List<string> names = new List<string>();\n",
    "foreach(var channel in component1.Channels){\n",
    "    names.Add(channel.Name);\n",
    "}\n",
    "// Gets sample rates of every channel belonging to current component.\n",
    "List<double> sampleRates = new List<double>();\n",
    "foreach(var channel in component1.Channels){\n",
    "    sampleRates.Add(channel.SampleRate);\n",
    "}\n",
    "\n",
    "// Gets all units from every channel belonging to current component.\n",
    "List<string> units = new List<string>();\n",
    "foreach(var channel in component1.Channels){\n",
    "    units.Add(channel.Units.ToString());\n",
    "}\n",
    "\n",
    "System.Console.WriteLine(\"Component Channel Data:\");\n",
    "for (int i=0; i<data.Count(); i++){\n",
    "    System.Console.WriteLine(\"--Channel: \" + names[i] + \n",
    "    \" Sample Rate: \" + Math.Round(sampleRates[i], 4) + \n",
    "    \" Unit: \" + units[i] + \n",
    "    \" Data Length: \" + data[i].Count());\n",
    "}\n"
   ]
  },
  {
   "cell_type": "markdown",
   "metadata": {},
   "source": [
    "## Plotting single channel of data\n",
    "Here the EMG data is plotted on its own figure"
   ]
  },
  {
   "cell_type": "code",
   "execution_count": null,
   "metadata": {
    "dotnet_interactive": {
     "language": "csharp"
    },
    "vscode": {
     "languageId": "dotnet-interactive.csharp"
    }
   },
   "outputs": [],
   "source": [
    "using Plotly.NET;\n",
    "using Plotly.NET.LayoutObjects;\n",
    "\n",
    "// Calculates the time axis for first channel based on channel sample rate\n",
    "List<double> channel_time = new List<double>();\n",
    "for(double i = 0; i< data[0].Count(); i+=1){\n",
    "    channel_time.Add(i/sampleRates[0]);\n",
    "}\n",
    "\n",
    "// Set x-axis\n",
    "LinearAxis xAxis = new LinearAxis();\n",
    "xAxis.SetValue(\"title\", \"Time (s)\");\n",
    "\n",
    "// Set y-axis\n",
    "LinearAxis yAxis = new LinearAxis();\n",
    "yAxis.SetValue(\"title\", units[0]);\n",
    "\n",
    "// Create plot layout\n",
    "Layout layout = new Layout();\n",
    "layout.SetValue(\"xaxis\", xAxis);\n",
    "layout.SetValue(\"yaxis\", yAxis);\n",
    "layout.SetValue(\"title\", \"EMG Data\");\n",
    "\n",
    "// Set plot data\n",
    "Trace trace = new Trace(\"scatter\");\n",
    "trace.SetValue(\"x\", channel_time);\n",
    "trace.SetValue(\"y\", data[0]);\n",
    "trace.SetValue(\"mode\", \"lines\");\n",
    "\n",
    "// Show plot\n",
    "GenericChart\n",
    "    .ofTraceObject(true, trace)\n",
    "    .WithLayout(layout)\n",
    "    .Show();"
   ]
  },
  {
   "cell_type": "markdown",
   "metadata": {},
   "source": [
    "## Plot all data from sensor component\n",
    "Here all of the data is plotted based on the channel type (EMG, ACC, GYRO)"
   ]
  },
  {
   "cell_type": "code",
   "execution_count": null,
   "metadata": {
    "dotnet_interactive": {
     "language": "csharp"
    },
    "vscode": {
     "languageId": "dotnet-interactive.csharp"
    }
   },
   "outputs": [],
   "source": [
    "List<string> channel_types = new List<string>();\n",
    "for (int i=0;i<component1.Channels.Count(); i++){\n",
    "    if (channel_types.Contains(component1.Channels[i].ChannelType.ToString())){\n",
    "        continue;\n",
    "    }\n",
    "    else{\n",
    "        channel_types.Add(component1.Channels[i].ChannelType.ToString());\n",
    "    }\n",
    "}\n",
    "\n",
    "List<List<GenericChart.GenericChart>> plots = new List<List<GenericChart.GenericChart>>();\n",
    "\n",
    "//Loop all unique channel types\n",
    "for (int i=0; i<channel_types.Count(); i++)\n",
    "{\n",
    "    List<GenericChart.GenericChart> uniqueTypePlot = new List<GenericChart.GenericChart>();\n",
    "\n",
    "    LinearAxis xAxis = new LinearAxis();\n",
    "    xAxis.SetValue(\"title\", \"Time (s)\");\n",
    "    \n",
    "    //Loop all channel data - if channel type matches, add the channel data to that plot\n",
    "    for (int k=0; k<data.Count(); k++)\n",
    "    {\n",
    "        if (component1.Channels[k].ChannelType.ToString() == channel_types[i])\n",
    "        {\n",
    "            //x-axes time values based on sampling rates\n",
    "            List<double> time = new List<double>();\n",
    "            for (double j = 0; j< data[i].Count(); j++)\n",
    "            {\n",
    "                time.Add(j/sampleRates[k]);\n",
    "            }\n",
    "\n",
    "            Trace trace = new Trace(\"scatter\");\n",
    "            trace.SetValue(\"x\", time);\n",
    "            trace.SetValue(\"y\", data[k]);\n",
    "            trace.SetValue(\"mode\", \"lines\");\n",
    "            \n",
    "            trace.SetValue(\"name\", names[k]);\n",
    "\n",
    "            LinearAxis yAxis = new LinearAxis();\n",
    "            yAxis.SetValue(\"title\", units[k]);\n",
    "\n",
    "            Layout layout = new Layout();\n",
    "            layout.SetValue(\"xaxis\", xAxis);\n",
    "            layout.SetValue(\"yaxis\", yAxis);\n",
    "            layout.SetValue(\"showlegend\", true);\n",
    "            layout.SetValue(\"title\", channel_types[i]);\n",
    "\n",
    "            var plotPart = GenericChart.ofTraceObject(true, trace).WithLayout(layout);\n",
    "            uniqueTypePlot.Add(plotPart);\n",
    "        }\n",
    "    }\n",
    "    plots.Add(uniqueTypePlot);\n",
    "}\n",
    "\n",
    "for (int i = 0; i<plots.Count(); i++)\n",
    "{\n",
    "    var plot = Plotly.NET.Chart.Combine(plots[i]);\n",
    "    plot.Show();\n",
    "}"
   ]
  }
 ],
 "metadata": {
  "interpreter": {
   "hash": "0a4a30773c47f9199ce658b6553e9fd54bd59baf2127c9ed1c1f5041f011b506"
  },
  "kernelspec": {
   "display_name": ".NET (C#)",
   "language": "C#",
   "name": ".net-csharp"
  },
  "language_info": {
   "file_extension": ".cs",
   "mimetype": "text/x-csharp",
   "name": "C#",
   "pygments_lexer": "csharp",
   "version": "9.0"
  }
 },
 "nbformat": 4,
 "nbformat_minor": 2
}
