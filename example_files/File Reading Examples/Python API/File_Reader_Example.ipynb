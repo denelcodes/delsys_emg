{
 "cells": [
  {
   "cell_type": "markdown",
   "metadata": {},
   "source": [
    "# Delsys FileReaderAPI - Python Overview\n",
    "This document outlines how to directly read SHPF files within a python environment using Delsys' FileReaderAPI.\n",
    "You can run this jupyter notebook example or export to a python script if desired.\n",
    "    \n",
    "## Python Packages (see requirements.txt)\n",
    "1) ipykernel\n",
    "2) pythonnet\n",
    "3) numpy\n",
    "4) plotly\n",
    "5) pandas\n",
    "6) nbformat\n",
    "\n",
    "## How to export this notebook to a Python Script (if desired)\n",
    "\n",
    "1) Open a terminal and run:\n",
    "    ipython nbconvert --to python *.ipynb\n",
    "\n",
    "2) delete:\n",
    "    get_ipython().system('{sys.executable} -m pip install -r requirements.txt')\n",
    "\n",
    "3) wrap the example in a main() function.\n",
    "\n",
    "    def main():\n",
    "        # all your code here\n",
    "\n",
    "4) Add a __name__ function\n",
    "    if __name__ == \"__main__\":\n",
    "        # execute only if run as a script\n",
    "        main()"
   ]
  },
  {
   "cell_type": "markdown",
   "metadata": {},
   "source": [
    "# Python Example\n",
    "## Install requirements that are noted in the requirement.txt file"
   ]
  },
  {
   "cell_type": "code",
   "execution_count": null,
   "metadata": {},
   "outputs": [],
   "source": [
    "pip install -r requirements.txt"
   ]
  },
  {
   "cell_type": "markdown",
   "metadata": {},
   "source": [
    "## Setup the FileReader\n",
    "\n",
    "First import all dependencies and local python files. Then create the FileReader object by passing it the path to the FileReader.dll (included witth example files)"
   ]
  },
  {
   "cell_type": "code",
   "execution_count": null,
   "metadata": {},
   "outputs": [],
   "source": [
    "import glob\n",
    "import os\n",
    "import numpy as np\n",
    "import plotly.graph_objects as go\n",
    "from plotly.subplots import make_subplots\n",
    "from File_Reader import File_Reader\n",
    "from DelsysFile import DelsysFile\n",
    "from Component import Component\n",
    "from Channel import Channel\n",
    "\n",
    "#Read File\n",
    "pathToDll = os.path.join(os.getcwd(), \"FileReader.dll\")\n",
    "fileReader = File_Reader(pathToDll)"
   ]
  },
  {
   "cell_type": "markdown",
   "metadata": {},
   "source": [
    "## Choosing a file to read\n",
    "You can read a file by calling the .Read() method and passing the full path to the shpf file.\n",
    "Calling the method ParsedFile() will return a file object that contains all the data from that file."
   ]
  },
  {
   "cell_type": "code",
   "execution_count": null,
   "metadata": {},
   "outputs": [],
   "source": [
    "filePath = os.path.join(os.getcwd(), \"Forearm_Pronation_Supination_1.shpf\")\n",
    "\n",
    "fileReader.readFile(filePath)\n",
    "\n",
    "file = fileReader.ParsedFile()\n",
    "\n",
    "fileType = fileReader.FileType()\n",
    "\n",
    "print(\"Loaded File: \" + filePath)"
   ]
  },
  {
   "cell_type": "markdown",
   "metadata": {},
   "source": [
    "## Retrieving Data\n",
    "After the file is parsed all of the individual sensor component objects are stored in a list. The file provided with this example only has one sensor's data, therefore we will reference index 0 to retrieve the first component in that list. If more sensors were used during a collection, you may loop through the sensor objects by using the total number of sensors in the file ie. for i in range(file.ComponentCount()): component = file.Component(i). To see all of the metadata and methods associated with each component object see Component.py "
   ]
  },
  {
   "cell_type": "code",
   "execution_count": null,
   "metadata": {},
   "outputs": [],
   "source": [
    "component1 = file.Component(0)\n",
    "channel1 = component1.Channel(0)\n",
    "channel1data = channel1.Data()\n",
    "\n",
    "print(\"Component Name: \" + component1.Name())"
   ]
  },
  {
   "cell_type": "markdown",
   "metadata": {},
   "source": [
    "## Get all data from a component\n",
    "You can get all channel data (for a single sensor component) and other metadata with these method calls."
   ]
  },
  {
   "cell_type": "code",
   "execution_count": null,
   "metadata": {},
   "outputs": [],
   "source": [
    "data = component1.GetAllData()\n",
    "names = component1.GetAllChannelNames()\n",
    "sampleRates = component1.GetAllSampleRates()\n",
    "units = component1.GetAllUnits()\n",
    "\n",
    "print(\"Component Channel Data:\")\n",
    "for i in range(len(data)):\n",
    "    print(\"-- Channel: \" + names[i] +\n",
    "          \"  Sample Rate: \" + str(round(sampleRates[i], 2)) +\n",
    "          \"  Unit: \" + units[i] +\n",
    "          \"  Data Length: \" + str(len(data[i])))"
   ]
  },
  {
   "cell_type": "markdown",
   "metadata": {},
   "source": [
    "## Get data from a single channel \n",
    "Each component object contains a list of channel objects. This example will pull the first channel from component1 object. Each channel object has a variety of metadata along with all of the channel data. To see all of the metadata and methods associated with each channel object see Channel.py "
   ]
  },
  {
   "cell_type": "code",
   "execution_count": null,
   "metadata": {},
   "outputs": [],
   "source": [
    "channel1 = component1.Channel(0)\n",
    "print(\"Channel Name: \" + channel1.Name())"
   ]
  },
  {
   "cell_type": "markdown",
   "metadata": {},
   "source": [
    "## Plotting single channel of data\n",
    "Here the EMG data is plotted on its own figure"
   ]
  },
  {
   "cell_type": "code",
   "execution_count": null,
   "metadata": {},
   "outputs": [],
   "source": [
    "fig = make_subplots(rows=1, cols=1)\n",
    "fig.update_layout(\n",
    "title_text=\"EMG Data\"\n",
    ")\n",
    "#x-axes time values based on sampling rates\n",
    "emg_Time = np.arange(len(channel1.Data())) / channel1.SampleRate()\n",
    "\n",
    "#EMG PLot\n",
    "fig.add_trace(go.Scatter(x=emg_Time, y=channel1.Data(),\n",
    "                    mode=\"lines\",\n",
    "                    name='EMG'),\n",
    ")\n",
    "# Set x-axis title\n",
    "fig.update_xaxes(title_text=\"Time (s)\"\n",
    ")\n",
    "# Set y-axes titles\n",
    "fig.update_yaxes(title_text=channel1.Units()\n",
    ")"
   ]
  },
  {
   "cell_type": "markdown",
   "metadata": {},
   "source": [
    "## Plot all data from sensor component\n",
    "Here all of the data is plotted based on the channel type (EMG, ACC, GYRO)"
   ]
  },
  {
   "cell_type": "code",
   "execution_count": null,
   "metadata": {},
   "outputs": [],
   "source": [
    "#Loop through all channels and store each unique type in a list (EMG, ACC, GYRO)\n",
    "channel_types = []\n",
    "for i in range(component1.ChannelCount()):\n",
    "    if component1.Channel(i).ChannelType() not in channel_types:\n",
    "        channel_types.append(component1.Channel(i).ChannelType())\n",
    "\n",
    "#Create a new plot for each channel type\n",
    "fig = make_subplots(rows=len(channel_types), cols=1,\n",
    "                    shared_xaxes=True,\n",
    ")\n",
    "fig.update_layout(\n",
    "title_text=\"All Data\"\n",
    ")\n",
    "\n",
    "#Loop all unique channel types\n",
    "for i in range(len(channel_types)):\n",
    "\n",
    "    #Loop all channel data - if channel type matches, add the channel data to that plot\n",
    "    for k in range(len(data)):\n",
    "        if component1.Channel(k).ChannelType() == channel_types[i]:\n",
    "            #x-axes time values based on sampling rates\n",
    "            time = np.arange(len(data[k])) / sampleRates[k]\n",
    "\n",
    "            #Add data\n",
    "            fig.add_trace(go.Scatter(x=time, y=data[k],\n",
    "                                mode=\"lines\",\n",
    "                                name=names[k]),\n",
    "                                row=i+1,\n",
    "                                col=1\n",
    "            )\n",
    "            # Set y-axes titles\n",
    "            fig.update_yaxes(title_text=units[k],\n",
    "                row=i+1,\n",
    "                col=1\n",
    "            )\n",
    "\n",
    "fig.update_xaxes(title_text=\"Time (s)\", row=len(channel_types), col=1)\n",
    "fig.show()"
   ]
  }
 ],
 "metadata": {
  "kernelspec": {
   "display_name": "Python 3.7.9 64-bit",
   "language": "python",
   "name": "python3"
  },
  "language_info": {
   "codemirror_mode": {
    "name": "ipython",
    "version": 3
   },
   "file_extension": ".py",
   "mimetype": "text/x-python",
   "name": "python",
   "nbconvert_exporter": "python",
   "pygments_lexer": "ipython3",
   "version": "3.7.9"
  },
  "vscode": {
   "interpreter": {
    "hash": "a70e5694d81f0c0451ce0e9165e61fd817de500b83440b3ad8ae613c204518a8"
   }
  }
 },
 "nbformat": 4,
 "nbformat_minor": 2
}
